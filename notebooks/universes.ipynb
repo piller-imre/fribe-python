{
 "cells": [
  {
   "cell_type": "code",
   "execution_count": null,
   "id": "6f8b9b40",
   "metadata": {},
   "outputs": [],
   "source": [
    "behavior = {\n",
    "    'universes': {\n",
    "        'speed': {\n",
    "            'low': 0,\n",
    "            'high': 10\n",
    "        },\n",
    "        'distance': {\n",
    "            'low': 0,\n",
    "            'high': 10\n",
    "        }\n",
    "    },\n",
    "    'rulebases': {\n",
    "        'speed': [\n",
    "            {\n",
    "                'let': 'low',\n",
    "                'when': {\n",
    "                    'distance': 'low',\n",
    "                    'speed': 'high'\n",
    "                }\n",
    "            }\n",
    "        ]\n",
    "    }\n",
    "}"
   ]
  },
  {
   "cell_type": "code",
   "execution_count": null,
   "id": "b35b8a57",
   "metadata": {},
   "outputs": [],
   "source": [
    "def calc_distance(universe, name, x):\n",
    "    \"\"\"\n",
    "    \"\"\"\n",
    "    return 0"
   ]
  }
 ],
 "metadata": {
  "kernelspec": {
   "display_name": "Python 3 (ipykernel)",
   "language": "python",
   "name": "python3"
  },
  "language_info": {
   "codemirror_mode": {
    "name": "ipython",
    "version": 3
   },
   "file_extension": ".py",
   "mimetype": "text/x-python",
   "name": "python",
   "nbconvert_exporter": "python",
   "pygments_lexer": "ipython3",
   "version": "3.10.2"
  }
 },
 "nbformat": 4,
 "nbformat_minor": 5
}
